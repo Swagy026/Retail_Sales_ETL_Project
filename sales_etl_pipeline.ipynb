{
 "cells": [
  {
   "cell_type": "code",
   "execution_count": 2,
   "id": "b530ebc5",
   "metadata": {},
   "outputs": [],
   "source": [
    "# importing libs\n",
    "import numpy as np\n",
    "import pandas as pd"
   ]
  },
  {
   "cell_type": "code",
   "execution_count": 6,
   "id": "2c83cefa",
   "metadata": {},
   "outputs": [
    {
     "data": {
      "text/html": [
       "<div>\n",
       "<style scoped>\n",
       "    .dataframe tbody tr th:only-of-type {\n",
       "        vertical-align: middle;\n",
       "    }\n",
       "\n",
       "    .dataframe tbody tr th {\n",
       "        vertical-align: top;\n",
       "    }\n",
       "\n",
       "    .dataframe thead th {\n",
       "        text-align: right;\n",
       "    }\n",
       "</style>\n",
       "<table border=\"1\" class=\"dataframe\">\n",
       "  <thead>\n",
       "    <tr style=\"text-align: right;\">\n",
       "      <th></th>\n",
       "      <th>Date</th>\n",
       "      <th>Region</th>\n",
       "      <th>Product_Category</th>\n",
       "      <th>Units_Sold</th>\n",
       "      <th>Unit_Price</th>\n",
       "      <th>Cost</th>\n",
       "    </tr>\n",
       "  </thead>\n",
       "  <tbody>\n",
       "    <tr>\n",
       "      <th>0</th>\n",
       "      <td>2024-01-01</td>\n",
       "      <td>North</td>\n",
       "      <td>Electronics</td>\n",
       "      <td>100</td>\n",
       "      <td>299.99</td>\n",
       "      <td>25000</td>\n",
       "    </tr>\n",
       "    <tr>\n",
       "      <th>1</th>\n",
       "      <td>2024-01-01</td>\n",
       "      <td>South</td>\n",
       "      <td>Fashion</td>\n",
       "      <td>80</td>\n",
       "      <td>49.99</td>\n",
       "      <td>3200</td>\n",
       "    </tr>\n",
       "    <tr>\n",
       "      <th>2</th>\n",
       "      <td>2024-01-01</td>\n",
       "      <td>East</td>\n",
       "      <td>Home Decor</td>\n",
       "      <td>60</td>\n",
       "      <td>89.99</td>\n",
       "      <td>4100</td>\n",
       "    </tr>\n",
       "    <tr>\n",
       "      <th>3</th>\n",
       "      <td>2024-01-02</td>\n",
       "      <td>North</td>\n",
       "      <td>Fashion</td>\n",
       "      <td>40</td>\n",
       "      <td>39.99</td>\n",
       "      <td>1200</td>\n",
       "    </tr>\n",
       "    <tr>\n",
       "      <th>4</th>\n",
       "      <td>2024-01-02</td>\n",
       "      <td>West</td>\n",
       "      <td>Electronics</td>\n",
       "      <td>90</td>\n",
       "      <td>279.99</td>\n",
       "      <td>24000</td>\n",
       "    </tr>\n",
       "  </tbody>\n",
       "</table>\n",
       "</div>"
      ],
      "text/plain": [
       "         Date Region Product_Category  Units_Sold  Unit_Price   Cost\n",
       "0  2024-01-01  North      Electronics         100      299.99  25000\n",
       "1  2024-01-01  South          Fashion          80       49.99   3200\n",
       "2  2024-01-01   East       Home Decor          60       89.99   4100\n",
       "3  2024-01-02  North          Fashion          40       39.99   1200\n",
       "4  2024-01-02   West      Electronics          90      279.99  24000"
      ]
     },
     "execution_count": 6,
     "metadata": {},
     "output_type": "execute_result"
    }
   ],
   "source": [
    "#loading the data set \n",
    "raw_df = pd.read_csv(r\"D:\\python prac\\Retail_Sales_ETL_Project\\Data\\raw_sales_data.csv\")\n",
    "raw_df.head()"
   ]
  },
  {
   "cell_type": "code",
   "execution_count": 9,
   "id": "dfdf22fb",
   "metadata": {},
   "outputs": [
    {
     "data": {
      "text/plain": [
       "Index(['date', 'region', 'product_category', 'units_sold', 'unit_price',\n",
       "       'cost'],\n",
       "      dtype='object')"
      ]
     },
     "execution_count": 9,
     "metadata": {},
     "output_type": "execute_result"
    }
   ],
   "source": [
    "#cleaning the columns names \n",
    "raw_df.columns = raw_df.columns.str.strip().str.lower().str.replace(\" \", \"_\")\n",
    "raw_df.columns"
   ]
  },
  {
   "cell_type": "code",
   "execution_count": 10,
   "id": "45a2dc21",
   "metadata": {},
   "outputs": [],
   "source": [
    "#converting date \n",
    "raw_df['date'] = pd.to_datetime(raw_df['date'])"
   ]
  },
  {
   "cell_type": "code",
   "execution_count": 11,
   "id": "d67965f5",
   "metadata": {},
   "outputs": [],
   "source": [
    "# Calculate Revenue, Profit, Margin\n",
    "raw_df['revenue'] = raw_df['units_sold'] * raw_df['unit_price']\n",
    "raw_df['profit']  = raw_df['revenue'] - raw_df['cost']\n",
    "raw_df['margin']  = (raw_df['profit'] / raw_df['revenue']).round(2)"
   ]
  },
  {
   "cell_type": "code",
   "execution_count": null,
   "id": "8c405685",
   "metadata": {},
   "outputs": [
    {
     "name": "stderr",
     "output_type": "stream",
     "text": [
      "<>:1: SyntaxWarning: invalid escape sequence '\\p'\n",
      "<>:1: SyntaxWarning: invalid escape sequence '\\p'\n",
      "C:\\Users\\HP\\AppData\\Local\\Temp\\ipykernel_11212\\864555691.py:1: SyntaxWarning: invalid escape sequence '\\p'\n",
      "  raw_df.to_csv(\"D:\\python prac\\Retail_Sales_ETL_Project\\Data\\cleaned_sales_data.csv\")\n"
     ]
    }
   ],
   "source": [
    "#saving the clean data \n",
    "raw_df.to_csv(\"D:\\python prac\\Retail_Sales_ETL_Project\\Data\\cleaned_sales_data.csv\")"
   ]
  },
  {
   "cell_type": "code",
   "execution_count": 14,
   "id": "874c8a29",
   "metadata": {},
   "outputs": [],
   "source": [
    "# creating the summary \n",
    "summary = raw_df.groupby(['region', 'product_category']).agg({\n",
    "    'revenue': 'sum',\n",
    "    'profit': 'sum',\n",
    "    'units_sold': 'sum',\n",
    "    'margin': 'mean'\n",
    "}).reset_index()"
   ]
  },
  {
   "cell_type": "code",
   "execution_count": 16,
   "id": "a35368f6",
   "metadata": {},
   "outputs": [],
   "source": [
    "summary.to_csv(r\"D:\\python prac\\Retail_Sales_ETL_Project\\output\\summary_report.csv\")"
   ]
  },
  {
   "cell_type": "code",
   "execution_count": 17,
   "id": "3f93e646",
   "metadata": {},
   "outputs": [
    {
     "name": "stdout",
     "output_type": "stream",
     "text": [
      "✅ ETL complete. Clean data and summary saved.\n"
     ]
    }
   ],
   "source": [
    "print(\"✅ ETL complete. Clean data and summary saved.\")"
   ]
  }
 ],
 "metadata": {
  "kernelspec": {
   "display_name": "Python 3",
   "language": "python",
   "name": "python3"
  },
  "language_info": {
   "codemirror_mode": {
    "name": "ipython",
    "version": 3
   },
   "file_extension": ".py",
   "mimetype": "text/x-python",
   "name": "python",
   "nbconvert_exporter": "python",
   "pygments_lexer": "ipython3",
   "version": "3.13.3"
  }
 },
 "nbformat": 4,
 "nbformat_minor": 5
}
