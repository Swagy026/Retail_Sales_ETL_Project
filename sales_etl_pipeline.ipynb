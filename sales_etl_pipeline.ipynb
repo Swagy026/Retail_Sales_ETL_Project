{
 "cells": [
  {
   "cell_type": "code",
   "execution_count": null,
   "id": "b530ebc5",
   "metadata": {},
   "outputs": [],
   "source": [
    "# importing libs\n",
    "import numpy as np\n",
    "import pandas as pd"
   ]
  },
  {
   "cell_type": "code",
   "execution_count": null,
   "id": "2c83cefa",
   "metadata": {},
   "outputs": [],
   "source": [
    "#loading the data set \n",
    "try:\n",
    "    # Sample block\n",
    "    raw_df = pd.read_csv(r\"D:\\python prac\\Retail_Sales_ETL_Project\\Data\\raw_sales_data.csv\")\n",
    "    print(\"✅ File loaded successfully.\")\n",
    "except FileNotFoundError:\n",
    "    print(\"❌ Error: File not found. Check your path.\")"
   ]
  },
  {
   "cell_type": "code",
   "execution_count": null,
   "id": "dfdf22fb",
   "metadata": {},
   "outputs": [],
   "source": [
    "#cleaning the columns names \n",
    "raw_df.columns = raw_df.columns.str.strip().str.lower().str.replace(\" \", \"_\")\n",
    "raw_df.columns"
   ]
  },
  {
   "cell_type": "code",
   "execution_count": null,
   "id": "45a2dc21",
   "metadata": {},
   "outputs": [],
   "source": [
    "#converting date \n",
    "raw_df['date'] = pd.to_datetime(raw_df['date'])"
   ]
  },
  {
   "cell_type": "code",
   "execution_count": null,
   "id": "d67965f5",
   "metadata": {},
   "outputs": [],
   "source": [
    "# Calculate Revenue, Profit, Margin\n",
    "raw_df['revenue'] = raw_df['units_sold'] * raw_df['unit_price']\n",
    "raw_df['profit']  = raw_df['revenue'] - raw_df['cost']\n",
    "raw_df['margin']  = (raw_df['profit'] / raw_df['revenue']).round(2)"
   ]
  },
  {
   "cell_type": "code",
   "execution_count": null,
   "id": "8c405685",
   "metadata": {},
   "outputs": [],
   "source": [
    "#saving the clean data \n",
    "raw_df.to_csv(r\"D:\\python prac\\Retail_Sales_ETL_Project\\Data\\cleaned_sales_data.csv\")"
   ]
  },
  {
   "cell_type": "code",
   "execution_count": null,
   "id": "874c8a29",
   "metadata": {},
   "outputs": [],
   "source": [
    "# creating the summary \n",
    "summary = raw_df.groupby(['region', 'product_category']).agg({\n",
    "    'revenue': 'sum',\n",
    "    'profit': 'sum',\n",
    "    'units_sold': 'sum',\n",
    "    'margin': 'mean'\n",
    "}).reset_index()"
   ]
  },
  {
   "cell_type": "code",
   "execution_count": null,
   "id": "a35368f6",
   "metadata": {},
   "outputs": [],
   "source": [
    "summary.to_csv(r\"D:\\python prac\\Retail_Sales_ETL_Project\\output\\summary_report.csv\")"
   ]
  },
  {
   "cell_type": "code",
   "execution_count": null,
   "id": "3f93e646",
   "metadata": {},
   "outputs": [],
   "source": [
    "print(\"✅ ETL complete. Clean data and summary saved.\")"
   ]
  }
 ],
 "metadata": {
  "kernelspec": {
   "display_name": "Python 3",
   "language": "python",
   "name": "python3"
  },
  "language_info": {
   "codemirror_mode": {
    "name": "ipython",
    "version": 3
   },
   "file_extension": ".py",
   "mimetype": "text/x-python",
   "name": "python",
   "nbconvert_exporter": "python",
   "pygments_lexer": "ipython3",
   "version": "3.13.3"
  }
 },
 "nbformat": 4,
 "nbformat_minor": 5
}
